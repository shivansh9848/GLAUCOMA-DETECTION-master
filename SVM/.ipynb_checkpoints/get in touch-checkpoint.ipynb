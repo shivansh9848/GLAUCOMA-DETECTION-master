{
 "cells": [
  {
   "cell_type": "markdown",
   "metadata": {},
   "source": [
    "## Libraries "
   ]
  },
  {
   "cell_type": "code",
   "execution_count": 1,
   "metadata": {},
   "outputs": [],
   "source": [
    "import numpy as np \n",
    "import matplotlib.pyplot as plt \n",
    "import pandas as pd\n",
    "import seaborn as sns\n",
    "from sklearn import svm\n",
    "from sklearn.ensemble import RandomForestClassifier\n",
    "from sklearn.metrics import f1_score,confusion_matrix\n",
    "from sklearn.model_selection import train_test_split"
   ]
  },
  {
   "cell_type": "markdown",
   "metadata": {},
   "source": [
    "## read data"
   ]
  },
  {
   "cell_type": "code",
   "execution_count": 2,
   "metadata": {},
   "outputs": [],
   "source": [
    "data = pd.read_csv (\"extracted_features.csv\")"
   ]
  },
  {
   "cell_type": "code",
   "execution_count": 3,
   "metadata": {},
   "outputs": [
    {
     "data": {
      "text/html": [
       "<div>\n",
       "<style scoped>\n",
       "    .dataframe tbody tr th:only-of-type {\n",
       "        vertical-align: middle;\n",
       "    }\n",
       "\n",
       "    .dataframe tbody tr th {\n",
       "        vertical-align: top;\n",
       "    }\n",
       "\n",
       "    .dataframe thead th {\n",
       "        text-align: right;\n",
       "    }\n",
       "</style>\n",
       "<table border=\"1\" class=\"dataframe\">\n",
       "  <thead>\n",
       "    <tr style=\"text-align: right;\">\n",
       "      <th></th>\n",
       "      <th>1</th>\n",
       "      <th>2</th>\n",
       "      <th>3</th>\n",
       "      <th>4</th>\n",
       "      <th>5</th>\n",
       "      <th>6</th>\n",
       "      <th>7</th>\n",
       "      <th>8</th>\n",
       "      <th>9</th>\n",
       "      <th>10</th>\n",
       "      <th>...</th>\n",
       "      <th>4612</th>\n",
       "      <th>4613</th>\n",
       "      <th>4614</th>\n",
       "      <th>4615</th>\n",
       "      <th>4616</th>\n",
       "      <th>4617</th>\n",
       "      <th>4618</th>\n",
       "      <th>4619</th>\n",
       "      <th>4620</th>\n",
       "      <th>4621</th>\n",
       "    </tr>\n",
       "  </thead>\n",
       "  <tbody>\n",
       "    <tr>\n",
       "      <td>count</td>\n",
       "      <td>904.000000</td>\n",
       "      <td>904.000000</td>\n",
       "      <td>904.000000</td>\n",
       "      <td>904.000000</td>\n",
       "      <td>904.000000</td>\n",
       "      <td>904.000000</td>\n",
       "      <td>904.000000</td>\n",
       "      <td>904.000000</td>\n",
       "      <td>904.000000</td>\n",
       "      <td>904.000000</td>\n",
       "      <td>...</td>\n",
       "      <td>904.000000</td>\n",
       "      <td>904.000000</td>\n",
       "      <td>904.000000</td>\n",
       "      <td>904.000000</td>\n",
       "      <td>904.000000</td>\n",
       "      <td>904.000000</td>\n",
       "      <td>904.000000</td>\n",
       "      <td>904.000000</td>\n",
       "      <td>904.000000</td>\n",
       "      <td>904.000000</td>\n",
       "    </tr>\n",
       "    <tr>\n",
       "      <td>mean</td>\n",
       "      <td>0.252976</td>\n",
       "      <td>0.253850</td>\n",
       "      <td>0.254146</td>\n",
       "      <td>0.254460</td>\n",
       "      <td>0.254539</td>\n",
       "      <td>0.255001</td>\n",
       "      <td>0.255291</td>\n",
       "      <td>0.255618</td>\n",
       "      <td>0.255678</td>\n",
       "      <td>0.256142</td>\n",
       "      <td>...</td>\n",
       "      <td>-0.361113</td>\n",
       "      <td>-0.363039</td>\n",
       "      <td>-0.368366</td>\n",
       "      <td>-0.371656</td>\n",
       "      <td>-0.376130</td>\n",
       "      <td>-0.376736</td>\n",
       "      <td>-0.372115</td>\n",
       "      <td>-0.370660</td>\n",
       "      <td>-0.365544</td>\n",
       "      <td>0.399336</td>\n",
       "    </tr>\n",
       "    <tr>\n",
       "      <td>std</td>\n",
       "      <td>0.109494</td>\n",
       "      <td>0.109618</td>\n",
       "      <td>0.109508</td>\n",
       "      <td>0.109402</td>\n",
       "      <td>0.109509</td>\n",
       "      <td>0.109268</td>\n",
       "      <td>0.109152</td>\n",
       "      <td>0.109044</td>\n",
       "      <td>0.109114</td>\n",
       "      <td>0.108848</td>\n",
       "      <td>...</td>\n",
       "      <td>0.551732</td>\n",
       "      <td>0.551547</td>\n",
       "      <td>0.556399</td>\n",
       "      <td>0.564214</td>\n",
       "      <td>0.569144</td>\n",
       "      <td>0.571363</td>\n",
       "      <td>0.567235</td>\n",
       "      <td>0.567022</td>\n",
       "      <td>0.563397</td>\n",
       "      <td>0.490033</td>\n",
       "    </tr>\n",
       "    <tr>\n",
       "      <td>min</td>\n",
       "      <td>0.021222</td>\n",
       "      <td>0.021250</td>\n",
       "      <td>0.021306</td>\n",
       "      <td>0.021326</td>\n",
       "      <td>0.021479</td>\n",
       "      <td>0.021514</td>\n",
       "      <td>0.021563</td>\n",
       "      <td>0.021578</td>\n",
       "      <td>0.021307</td>\n",
       "      <td>0.021469</td>\n",
       "      <td>...</td>\n",
       "      <td>-2.611010</td>\n",
       "      <td>-2.730420</td>\n",
       "      <td>-2.657370</td>\n",
       "      <td>-2.692930</td>\n",
       "      <td>-2.531020</td>\n",
       "      <td>-2.711810</td>\n",
       "      <td>-2.776420</td>\n",
       "      <td>-2.809960</td>\n",
       "      <td>-2.895980</td>\n",
       "      <td>0.000000</td>\n",
       "    </tr>\n",
       "    <tr>\n",
       "      <td>25%</td>\n",
       "      <td>0.153440</td>\n",
       "      <td>0.154344</td>\n",
       "      <td>0.154596</td>\n",
       "      <td>0.155304</td>\n",
       "      <td>0.155442</td>\n",
       "      <td>0.156120</td>\n",
       "      <td>0.156467</td>\n",
       "      <td>0.156639</td>\n",
       "      <td>0.157282</td>\n",
       "      <td>0.158864</td>\n",
       "      <td>...</td>\n",
       "      <td>-0.721745</td>\n",
       "      <td>-0.727030</td>\n",
       "      <td>-0.737455</td>\n",
       "      <td>-0.742970</td>\n",
       "      <td>-0.751130</td>\n",
       "      <td>-0.748605</td>\n",
       "      <td>-0.747535</td>\n",
       "      <td>-0.723687</td>\n",
       "      <td>-0.727270</td>\n",
       "      <td>0.000000</td>\n",
       "    </tr>\n",
       "    <tr>\n",
       "      <td>50%</td>\n",
       "      <td>0.277024</td>\n",
       "      <td>0.278037</td>\n",
       "      <td>0.277780</td>\n",
       "      <td>0.277711</td>\n",
       "      <td>0.278060</td>\n",
       "      <td>0.278025</td>\n",
       "      <td>0.279073</td>\n",
       "      <td>0.278999</td>\n",
       "      <td>0.279404</td>\n",
       "      <td>0.279439</td>\n",
       "      <td>...</td>\n",
       "      <td>-0.345720</td>\n",
       "      <td>-0.352620</td>\n",
       "      <td>-0.360915</td>\n",
       "      <td>-0.359960</td>\n",
       "      <td>-0.358970</td>\n",
       "      <td>-0.356630</td>\n",
       "      <td>-0.361950</td>\n",
       "      <td>-0.361945</td>\n",
       "      <td>-0.351710</td>\n",
       "      <td>0.000000</td>\n",
       "    </tr>\n",
       "    <tr>\n",
       "      <td>75%</td>\n",
       "      <td>0.334548</td>\n",
       "      <td>0.335225</td>\n",
       "      <td>0.334734</td>\n",
       "      <td>0.335228</td>\n",
       "      <td>0.335654</td>\n",
       "      <td>0.335432</td>\n",
       "      <td>0.336029</td>\n",
       "      <td>0.336320</td>\n",
       "      <td>0.336740</td>\n",
       "      <td>0.337070</td>\n",
       "      <td>...</td>\n",
       "      <td>0.006567</td>\n",
       "      <td>0.005358</td>\n",
       "      <td>0.017273</td>\n",
       "      <td>0.028523</td>\n",
       "      <td>0.008165</td>\n",
       "      <td>0.012490</td>\n",
       "      <td>0.017195</td>\n",
       "      <td>0.000063</td>\n",
       "      <td>0.003023</td>\n",
       "      <td>1.000000</td>\n",
       "    </tr>\n",
       "    <tr>\n",
       "      <td>max</td>\n",
       "      <td>0.533359</td>\n",
       "      <td>0.534139</td>\n",
       "      <td>0.535233</td>\n",
       "      <td>0.536544</td>\n",
       "      <td>0.537668</td>\n",
       "      <td>0.538444</td>\n",
       "      <td>0.539243</td>\n",
       "      <td>0.539599</td>\n",
       "      <td>0.539413</td>\n",
       "      <td>0.539621</td>\n",
       "      <td>...</td>\n",
       "      <td>1.626480</td>\n",
       "      <td>1.607370</td>\n",
       "      <td>1.726360</td>\n",
       "      <td>1.774620</td>\n",
       "      <td>1.750620</td>\n",
       "      <td>1.773920</td>\n",
       "      <td>1.680630</td>\n",
       "      <td>1.673320</td>\n",
       "      <td>1.498440</td>\n",
       "      <td>1.000000</td>\n",
       "    </tr>\n",
       "  </tbody>\n",
       "</table>\n",
       "<p>8 rows × 4621 columns</p>\n",
       "</div>"
      ],
      "text/plain": [
       "                1           2           3           4           5           6  \\\n",
       "count  904.000000  904.000000  904.000000  904.000000  904.000000  904.000000   \n",
       "mean     0.252976    0.253850    0.254146    0.254460    0.254539    0.255001   \n",
       "std      0.109494    0.109618    0.109508    0.109402    0.109509    0.109268   \n",
       "min      0.021222    0.021250    0.021306    0.021326    0.021479    0.021514   \n",
       "25%      0.153440    0.154344    0.154596    0.155304    0.155442    0.156120   \n",
       "50%      0.277024    0.278037    0.277780    0.277711    0.278060    0.278025   \n",
       "75%      0.334548    0.335225    0.334734    0.335228    0.335654    0.335432   \n",
       "max      0.533359    0.534139    0.535233    0.536544    0.537668    0.538444   \n",
       "\n",
       "                7           8           9          10  ...        4612  \\\n",
       "count  904.000000  904.000000  904.000000  904.000000  ...  904.000000   \n",
       "mean     0.255291    0.255618    0.255678    0.256142  ...   -0.361113   \n",
       "std      0.109152    0.109044    0.109114    0.108848  ...    0.551732   \n",
       "min      0.021563    0.021578    0.021307    0.021469  ...   -2.611010   \n",
       "25%      0.156467    0.156639    0.157282    0.158864  ...   -0.721745   \n",
       "50%      0.279073    0.278999    0.279404    0.279439  ...   -0.345720   \n",
       "75%      0.336029    0.336320    0.336740    0.337070  ...    0.006567   \n",
       "max      0.539243    0.539599    0.539413    0.539621  ...    1.626480   \n",
       "\n",
       "             4613        4614        4615        4616        4617        4618  \\\n",
       "count  904.000000  904.000000  904.000000  904.000000  904.000000  904.000000   \n",
       "mean    -0.363039   -0.368366   -0.371656   -0.376130   -0.376736   -0.372115   \n",
       "std      0.551547    0.556399    0.564214    0.569144    0.571363    0.567235   \n",
       "min     -2.730420   -2.657370   -2.692930   -2.531020   -2.711810   -2.776420   \n",
       "25%     -0.727030   -0.737455   -0.742970   -0.751130   -0.748605   -0.747535   \n",
       "50%     -0.352620   -0.360915   -0.359960   -0.358970   -0.356630   -0.361950   \n",
       "75%      0.005358    0.017273    0.028523    0.008165    0.012490    0.017195   \n",
       "max      1.607370    1.726360    1.774620    1.750620    1.773920    1.680630   \n",
       "\n",
       "             4619        4620        4621  \n",
       "count  904.000000  904.000000  904.000000  \n",
       "mean    -0.370660   -0.365544    0.399336  \n",
       "std      0.567022    0.563397    0.490033  \n",
       "min     -2.809960   -2.895980    0.000000  \n",
       "25%     -0.723687   -0.727270    0.000000  \n",
       "50%     -0.361945   -0.351710    0.000000  \n",
       "75%      0.000063    0.003023    1.000000  \n",
       "max      1.673320    1.498440    1.000000  \n",
       "\n",
       "[8 rows x 4621 columns]"
      ]
     },
     "execution_count": 3,
     "metadata": {},
     "output_type": "execute_result"
    }
   ],
   "source": [
    "data.describe()"
   ]
  },
  {
   "cell_type": "markdown",
   "metadata": {},
   "source": [
    "## basic stuff"
   ]
  },
  {
   "cell_type": "code",
   "execution_count": 4,
   "metadata": {},
   "outputs": [],
   "source": [
    "X , Y = data.values [ : , : -1 ] , data.values [ : , -1 ] "
   ]
  },
  {
   "cell_type": "code",
   "execution_count": 5,
   "metadata": {},
   "outputs": [
    {
     "name": "stdout",
     "output_type": "stream",
     "text": [
      "classes are :  [0. 1.]\n"
     ]
    }
   ],
   "source": [
    "print ( \"classes are : \" , np.unique ( Y ) )  "
   ]
  },
  {
   "cell_type": "code",
   "execution_count": 6,
   "metadata": {},
   "outputs": [
    {
     "data": {
      "text/plain": [
       "(904, 4620)"
      ]
     },
     "execution_count": 6,
     "metadata": {},
     "output_type": "execute_result"
    }
   ],
   "source": [
    "X.shape"
   ]
  },
  {
   "cell_type": "code",
   "execution_count": 7,
   "metadata": {},
   "outputs": [
    {
     "data": {
      "text/plain": [
       "(904,)"
      ]
     },
     "execution_count": 7,
     "metadata": {},
     "output_type": "execute_result"
    }
   ],
   "source": [
    "Y.shape"
   ]
  },
  {
   "cell_type": "markdown",
   "metadata": {},
   "source": [
    "## split data train / test "
   ]
  },
  {
   "cell_type": "code",
   "execution_count": 8,
   "metadata": {},
   "outputs": [],
   "source": [
    "X_train, X_test, Y_train, Y_test = train_test_split( X, Y , test_size = 0.3 , random_state = 7)"
   ]
  },
  {
   "cell_type": "markdown",
   "metadata": {},
   "source": [
    "## train"
   ]
  },
  {
   "cell_type": "code",
   "execution_count": 9,
   "metadata": {},
   "outputs": [],
   "source": [
    "# model = RandomForestClassifier( n_estimators=100 , random_state = 7 )\n",
    "model=svm.SVC(gamma='scale')"
   ]
  },
  {
   "cell_type": "code",
   "execution_count": 10,
   "metadata": {},
   "outputs": [
    {
     "data": {
      "text/plain": [
       "SVC(C=1.0, cache_size=200, class_weight=None, coef0=0.0,\n",
       "    decision_function_shape='ovr', degree=3, gamma='scale', kernel='rbf',\n",
       "    max_iter=-1, probability=False, random_state=None, shrinking=True,\n",
       "    tol=0.001, verbose=False)"
      ]
     },
     "execution_count": 10,
     "metadata": {},
     "output_type": "execute_result"
    }
   ],
   "source": [
    "model.fit(X_train,Y_train)\n",
    "# cm = confusion_matrix(Y_test,cf.predict(X_test))\n",
    "# sns.heatmap(cm,annot=True,fmt=\"d\")\n"
   ]
  },
  {
   "cell_type": "markdown",
   "metadata": {},
   "source": [
    "## test on unseen data"
   ]
  },
  {
   "cell_type": "code",
   "execution_count": 11,
   "metadata": {},
   "outputs": [
    {
     "name": "stdout",
     "output_type": "stream",
     "text": [
      "baseline accuracy  0.75\n"
     ]
    }
   ],
   "source": [
    "print (\"baseline accuracy \" , (  (model.predict(X_test) == Y_test).astype(\"int8\").sum() / Y_test.shape[0]   ) )"
   ]
  },
  {
   "cell_type": "code",
   "execution_count": null,
   "metadata": {},
   "outputs": [],
   "source": []
  },
  {
   "cell_type": "code",
   "execution_count": null,
   "metadata": {},
   "outputs": [],
   "source": []
  }
 ],
 "metadata": {
  "kernelspec": {
   "display_name": "Python 3",
   "language": "python",
   "name": "python3"
  },
  "language_info": {
   "codemirror_mode": {
    "name": "ipython",
    "version": 3
   },
   "file_extension": ".py",
   "mimetype": "text/x-python",
   "name": "python",
   "nbconvert_exporter": "python",
   "pygments_lexer": "ipython3",
   "version": "3.7.4"
  }
 },
 "nbformat": 4,
 "nbformat_minor": 2
}
